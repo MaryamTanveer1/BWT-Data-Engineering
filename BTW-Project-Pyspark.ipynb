{
  "nbformat": 4,
  "nbformat_minor": 0,
  "metadata": {
    "colab": {
      "provenance": []
    },
    "kernelspec": {
      "name": "python3",
      "display_name": "Python 3"
    },
    "language_info": {
      "name": "python"
    }
  },
  "cells": [
    {
      "cell_type": "code",
      "execution_count": 8,
      "metadata": {
        "colab": {
          "base_uri": "https://localhost:8080/"
        },
        "id": "kTkTFEVDBjTq",
        "outputId": "6d23a7be-a2be-4c84-b135-cbca1013c36c"
      },
      "outputs": [
        {
          "output_type": "stream",
          "name": "stdout",
          "text": [
            "Initial Data:\n",
            "+-------------------+--------+--------------------+----------+------------+----------------+----------------+------------+----------+--------+-------+\n",
            "|         order_date|order_id|             product|product_id|    category|purchase_address|quantity_ordered|  price_each|cost_price|turnover| margin|\n",
            "+-------------------+--------+--------------------+----------+------------+----------------+----------------+------------+----------+--------+-------+\n",
            "|2023-01-22 21:25:00|  141234|              iPhone|5.63801E12|   Vêtements|\"\"\"944 Walnut St|          Boston| MA 02215\"\"\"|         1|   700.0|  231.0|\n",
            "|2023-01-28 14:15:00|  141235|Lightning Chargin...|5.56332E12|Alimentation| \"\"\"185 Maple St|        Portland| OR 97035\"\"\"|         1|   14.95|  7.475|\n",
            "|2023-01-17 13:33:00|  141236|    Wired Headphones|2.11397E12|   Vêtements| \"\"\"538 Adams St|   San Francisco| CA 94016\"\"\"|         2|   11.99|  5.995|\n",
            "|2023-01-05 20:33:00|  141237|    27in FHD Monitor|3.06916E12|      Sports|  \"\"\"738 10th St|     Los Angeles| CA 90001\"\"\"|         1|  149.99|97.4935|\n",
            "|2023-01-25 11:59:00|  141238|    Wired Headphones|9.69268E12|Électronique|  \"\"\"387 10th St|          Austin| TX 73301\"\"\"|         1|   11.99|  5.995|\n",
            "+-------------------+--------+--------------------+----------+------------+----------------+----------------+------------+----------+--------+-------+\n",
            "only showing top 5 rows\n",
            "\n"
          ]
        }
      ],
      "source": [
        "from pyspark.sql import SparkSession\n",
        "from pyspark.sql.functions import col, hour, when, to_date, lower, regexp_extract, to_timestamp, udf\n",
        "from pyspark.sql.types import StringType\n",
        "\n",
        "# Initialize Spark session\n",
        "spark = SparkSession.builder \\\n",
        "    .appName(\"Data Cleaning for Voltmart\") \\\n",
        "    .getOrCreate()\n",
        "\n",
        "# Load the data from CSV into a Spark DataFrame\n",
        "df = spark.read.csv('/content/data.csv', header=True, inferSchema=True)\n",
        "\n",
        "print(\"Initial Data:\")\n",
        "df.show(5)\n",
        "\n",
        "# DATA Cleaning operations\n",
        "# 1. Remove orders placed between 12am and 5am and convert timestamp to date\n",
        "df = df.withColumn(\"order_date\", to_timestamp(col(\"order_date\")))\n",
        "\n",
        "# Apply the hour filter to exclude times between 0 and 5 AM\n",
        "df = df.filter(~hour(col(\"order_date\")).between(0, 5))\n",
        "\n",
        "# 2. Adding new column time_of_day\n",
        "def get_time_of_day(hour):\n",
        "    if 5 <= hour < 12:\n",
        "        return 'morning'\n",
        "    elif 12 <= hour < 18:\n",
        "        return 'afternoon'\n",
        "    elif 18 <= hour < 24:\n",
        "        return 'evening'\n",
        "    else:\n",
        "        return 'night'\n",
        "\n",
        "time_of_day_udf = udf(get_time_of_day, StringType())\n",
        "df = df.withColumn('time_of_day', time_of_day_udf(hour(col('order_date'))))\n",
        "\n",
        "# 3. Remove rows containing \"TV\" in the product column\n",
        "df = df.filter(~df.product.contains(\"TV\"))\n",
        "\n",
        "# 4. Ensure all product categories are in lowercase\n",
        "df = df.withColumn(\"category\", lower(col(\"category\")))\n",
        "\n",
        "# 5. Adding new column purchase_state\n",
        "def extract_state_and_zip(address):\n",
        "    parts = address.split(',')\n",
        "    if len(parts) >= 3:\n",
        "        return parts[-1].strip()\n",
        "    else:\n",
        "        return None\n",
        "\n",
        "extract_state_and_zip_udf = udf(extract_state_and_zip, StringType())\n",
        "df = df.withColumn('purchase_state', extract_state_and_zip_udf(col('purchase_address')))\n",
        "\n",
        "# Step 6: Save the cleaned DataFrame as a Parquet file\n",
        "df.write.parquet('/content/drive/FYP/cleaneddata1.parquet')\n",
        "\n",
        "# Stop the Spark session\n",
        "spark.stop()\n",
        "\n"
      ]
    },
    {
      "cell_type": "code",
      "source": [
        "!pip install pyspark"
      ],
      "metadata": {
        "colab": {
          "base_uri": "https://localhost:8080/"
        },
        "id": "EEdk6EzNCYRA",
        "outputId": "e1222560-ef8c-4ec2-ea94-144a0d66387c"
      },
      "execution_count": 2,
      "outputs": [
        {
          "output_type": "stream",
          "name": "stdout",
          "text": [
            "Collecting pyspark\n",
            "  Downloading pyspark-3.5.2.tar.gz (317.3 MB)\n",
            "\u001b[2K     \u001b[90m━━━━━━━━━━━━━━━━━━━━━━━━━━━━━━━━━━━━━━━━\u001b[0m \u001b[32m317.3/317.3 MB\u001b[0m \u001b[31m2.0 MB/s\u001b[0m eta \u001b[36m0:00:00\u001b[0m\n",
            "\u001b[?25h  Preparing metadata (setup.py) ... \u001b[?25l\u001b[?25hdone\n",
            "Requirement already satisfied: py4j==0.10.9.7 in /usr/local/lib/python3.10/dist-packages (from pyspark) (0.10.9.7)\n",
            "Building wheels for collected packages: pyspark\n",
            "  Building wheel for pyspark (setup.py) ... \u001b[?25l\u001b[?25hdone\n",
            "  Created wheel for pyspark: filename=pyspark-3.5.2-py2.py3-none-any.whl size=317812365 sha256=e6c893d65ac9ddac2dfef6d4c23d706720e77796e282713e025ac3cb324b361a\n",
            "  Stored in directory: /root/.cache/pip/wheels/34/34/bd/03944534c44b677cd5859f248090daa9fb27b3c8f8e5f49574\n",
            "Successfully built pyspark\n",
            "Installing collected packages: pyspark\n",
            "Successfully installed pyspark-3.5.2\n"
          ]
        }
      ]
    }
  ]
}