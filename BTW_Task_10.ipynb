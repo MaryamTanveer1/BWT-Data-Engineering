{
  "nbformat": 4,
  "nbformat_minor": 0,
  "metadata": {
    "colab": {
      "provenance": []
    },
    "kernelspec": {
      "name": "python3",
      "display_name": "Python 3"
    },
    "language_info": {
      "name": "python"
    }
  },
  "cells": [
    {
      "cell_type": "code",
      "execution_count": null,
      "metadata": {
        "colab": {
          "base_uri": "https://localhost:8080/"
        },
        "id": "8DZz2tnRAGJ4",
        "outputId": "1a9f15d9-edae-43d4-a94f-15aae1b8cfb3"
      },
      "outputs": [
        {
          "output_type": "stream",
          "name": "stdout",
          "text": [
            "+--------------------+--------+----------+-------+---------+--------------+--------------------+------------------+--------------------+--------------------+--------------------+\n",
            "|             item_id|order_id|product_id| amount|   status|item_timestamp|            location|     customer_name|      customer_phone|             country|         description|\n",
            "+--------------------+--------+----------+-------+---------+--------------+--------------------+------------------+--------------------+--------------------+--------------------+\n",
            "|4dc01ae9-c1a8-461...|  160794|       647| 1500.0|Cancelled|       34:34.6|        East Cameron|   Richard Stevens|   (774)709-6342x106|           Guatemala|Room as address h...|\n",
            "|77944e0c-f500-456...|  510841|       243| 848.88|Cancelled|       05:37.4|South Christinaburgh|     Patrick Allen|    001-734-642-3018|          Mauritania|Accept part crime...|\n",
            "|1019711d-53c9-401...|  259964|       209| 614.64| Returned|       18:15.2|    South Jeremybury|       Wendy White|                -962|            Cameroon|Top huge old beha...|\n",
            "|50020fa6-e77e-4ce...|  951786|       316| 1500.0|  Shipped|       57:57.3|         Jessicabury|      Lisa Bradley|+1-203-409-1537x2...|               Egypt|Truth responsibil...|\n",
            "|bb6e3160-6de1-462...|  524028|         8| 424.56| Returned|       46:11.3|         Melissafurt|     Victor Taylor|+1-815-967-7476x1122|      Norfolk Island|Business investme...|\n",
            "|af637d83-158f-43c...|   17471|       195| 1500.0|  Pending|       41:41.8|         Pearsonfort|Adam Rodriguez PhD|        260-869-2672|    Christmas Island|Class east machin...|\n",
            "|c22ba24d-4a25-44b...|  577128|       752| 161.24|  Pending|       05:49.4|         Port Alicia|   Randy Hernandez|   657.683.0611x2258|             Morocco|Next along Republ...|\n",
            "|7f4dca60-5245-49d...|     915|       773| 260.92| Returned|       16:40.1|            Haasview|      Ryan Flowers|  767-539-0086x59382|              Jersey|Question set miss...|\n",
            "|b1bd4228-7dd3-44a...|   83125|       574| 1500.0|Delivered|       46:20.8|        South Amanda|      Renee Wright|   (631)993-2594x711|             Belgium|Culture expert he...|\n",
            "|a83ce742-79af-44d...|  841666|       562| 1500.0|  Shipped|       00:44.9|        Phillipsfurt|       Dawn Bowman|  366.887.6914x96284|Falkland Islands ...|Cell before some ...|\n",
            "|1cd3326a-ff73-438...|  664182|       417| 925.87|  Pending|       29:23.5|  West Jenniferville|        Adam Bowen|        423.261.4357|    French Polynesia|Then group severa...|\n",
            "|2643f77c-8aaa-4d6...|   56034|       750| 1500.0|  Pending|       04:43.4|           Port Jack|       Kevin Smith|        629-270-2029|          Cape Verde|Else property ind...|\n",
            "|f4c5d4dd-0497-4f1...|  401743|       899| 1500.0|Cancelled|       01:28.7|          Grahamfort|  Christopher Roth|        946.230.9221|Slovakia (Slovak ...|Before she bed we...|\n",
            "|f312ad3a-002a-4e8...|  398394|       462| 1500.0|Cancelled|       21:05.6|            Adamland|     Lisa Holloway| (975)696-3029x85363|                Iraq|Age fish analysis...|\n",
            "|f442eb12-d683-4cc...|   33283|       149| 1500.0|  Shipped|       04:43.6|        West Annette|        Peter Kidd| +1-503-763-8718x562|             Andorra|Word PM society m...|\n",
            "|c67abda9-f4e3-432...|  377397|       964| 1500.0|Cancelled|       30:38.9|     South Jamieside| James Fitzpatrick|    001-454-346-6628|               Congo|Huge design revea...|\n",
            "|939a917e-c42d-4a5...|  901654|       111| 1500.0|  Pending|       19:57.7|   East Stephenmouth|     Kristen Parks| (857)524-4332x53950|              Guyana|Computer feeling ...|\n",
            "|3ca7b2b5-7ac2-4bd...|  162181|        78| 912.44|Delivered|       19:24.5|         South Cathy|     Joann Carlson|    001-470-577-6286|            Dominica|Thus want find ti...|\n",
            "|f9b43d5f-b6ca-463...|  227743|       850|1421.99|  Shipped|       57:27.5|        Beardchester|     Brooke Austin|   (534)858-8982x270|Saint Pierre and ...|Economic safe bes...|\n",
            "|817bec76-5f01-4b2...|  119816|       900| 1500.0|Delivered|       33:59.3|           Jessefurt|     James Garrett|    343-719-1164x006|Sao Tome and Prin...|Join region rock ...|\n",
            "+--------------------+--------+----------+-------+---------+--------------+--------------------+------------------+--------------------+--------------------+--------------------+\n",
            "only showing top 20 rows\n",
            "\n"
          ]
        }
      ],
      "source": [
        "from pyspark.sql import SparkSession\n",
        "from pyspark.sql.functions import col, when\n",
        "\n",
        "# Initialize Spark session\n",
        "spark = SparkSession.builder \\\n",
        "    .appName(\"Data Transformation\") \\\n",
        "    .getOrCreate()\n",
        "\n",
        "# Load the data from CSV into a Spark DataFrame\n",
        "df = spark.read.csv('/content/btw.csv', header=True, inferSchema=True)\n",
        "\n",
        "# 1. Ensuring 'order_id' is present and is an integer\n",
        "df = df.filter(df['order_id'].isNotNull() & df['order_id'].cast(\"int\").isNotNull())\n",
        "\n",
        "# 2. Ensuring 'product_id' is not 0\n",
        "df = df.filter(df['product_id'] != 0)\n",
        "\n",
        "# 3. Capping 'amount' at 1500 if it exceeds this value\n",
        "df = df.withColumn(\"amount\", when(col(\"amount\") > 1500, 1500).otherwise(col(\"amount\")))\n",
        "\n",
        "# 4. Removing rows where 'status' is null or None\n",
        "df = df.filter(df['status'].isNotNull())\n",
        "\n",
        "# Display the transformed DataFrame\n",
        "df.show()\n",
        "\n",
        "# Stop the Spark session\n",
        "spark.stop()\n",
        "\n"
      ]
    },
    {
      "cell_type": "markdown",
      "source": [
        "# New Section"
      ],
      "metadata": {
        "id": "EIHVEhiqMNRl"
      }
    }
  ]
}